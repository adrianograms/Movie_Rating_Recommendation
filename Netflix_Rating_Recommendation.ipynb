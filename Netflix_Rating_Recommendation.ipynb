{
  "nbformat": 4,
  "nbformat_minor": 0,
  "metadata": {
    "colab": {
      "provenance": [],
      "mount_file_id": "16Nq5k3njRXJlPe8c8kcM5pKdlcG1s8IC",
      "authorship_tag": "ABX9TyPH9sNqexou8zyptAyzbpKS",
      "include_colab_link": true
    },
    "kernelspec": {
      "name": "python3",
      "display_name": "Python 3"
    },
    "language_info": {
      "name": "python"
    }
  },
  "cells": [
    {
      "cell_type": "markdown",
      "metadata": {
        "id": "view-in-github",
        "colab_type": "text"
      },
      "source": [
        "<a href=\"https://colab.research.google.com/github/adrianograms/Movie_Rating_Recommendation/blob/master/Netflix_Rating_Recommendation.ipynb\" target=\"_parent\"><img src=\"https://colab.research.google.com/assets/colab-badge.svg\" alt=\"Open In Colab\"/></a>"
      ]
    },
    {
      "cell_type": "markdown",
      "source": [
        "# Prerequisites"
      ],
      "metadata": {
        "id": "mLWKSSQylROC"
      }
    },
    {
      "cell_type": "markdown",
      "source": [
        "For this notebook we will need pyspark to manipulate the dataset we are using. Our dataset have a load of register (500mb), so instead of pandas, we will need spark to properly explore this data"
      ],
      "metadata": {
        "id": "3XmNH0A9livi"
      }
    },
    {
      "cell_type": "code",
      "source": [
        "!pip install pyspark"
      ],
      "metadata": {
        "colab": {
          "base_uri": "https://localhost:8080/"
        },
        "id": "5KGZvXJ1kqd3",
        "outputId": "bcdca868-3e7d-449a-f160-d57b884fca15"
      },
      "execution_count": 1,
      "outputs": [
        {
          "output_type": "stream",
          "name": "stdout",
          "text": [
            "Looking in indexes: https://pypi.org/simple, https://us-python.pkg.dev/colab-wheels/public/simple/\n",
            "Collecting pyspark\n",
            "  Downloading pyspark-3.3.1.tar.gz (281.4 MB)\n",
            "\u001b[K     |████████████████████████████████| 281.4 MB 43 kB/s \n",
            "\u001b[?25hCollecting py4j==0.10.9.5\n",
            "  Downloading py4j-0.10.9.5-py2.py3-none-any.whl (199 kB)\n",
            "\u001b[K     |████████████████████████████████| 199 kB 49.0 MB/s \n",
            "\u001b[?25hBuilding wheels for collected packages: pyspark\n",
            "  Building wheel for pyspark (setup.py) ... \u001b[?25l\u001b[?25hdone\n",
            "  Created wheel for pyspark: filename=pyspark-3.3.1-py2.py3-none-any.whl size=281845512 sha256=ca614ff328371c2dbcf94ba8cecf002f61a16412707162550f0d58846262a8dd\n",
            "  Stored in directory: /root/.cache/pip/wheels/43/dc/11/ec201cd671da62fa9c5cc77078235e40722170ceba231d7598\n",
            "Successfully built pyspark\n",
            "Installing collected packages: py4j, pyspark\n",
            "Successfully installed py4j-0.10.9.5 pyspark-3.3.1\n"
          ]
        }
      ]
    },
    {
      "cell_type": "code",
      "source": [
        "# unzip the dataset\n",
        "!unzip '/content/drive/MyDrive/Colab Notebooks/Kaggle/Netflix Movie Rating/data/datasets.zip'"
      ],
      "metadata": {
        "colab": {
          "base_uri": "https://localhost:8080/"
        },
        "id": "oShDXOw6lD03",
        "outputId": "ad8b8b79-35ec-4d28-a716-8dd8d0579d44"
      },
      "execution_count": 2,
      "outputs": [
        {
          "output_type": "stream",
          "name": "stdout",
          "text": [
            "Archive:  /content/drive/MyDrive/Colab Notebooks/Kaggle/Netflix Movie Rating/data/datasets.zip\n",
            "  inflating: Netflix_Dataset_Movie.csv  \n",
            "  inflating: Netflix_Dataset_Rating.csv  \n"
          ]
        }
      ]
    },
    {
      "cell_type": "code",
      "source": [
        "# Import SparkSession\n",
        "from pyspark.sql import SparkSession\n",
        "from pyspark.sql import functions as f\n",
        "\n",
        "# Create SparkSession \n",
        "spark = SparkSession.builder \\\n",
        "      .master(\"local[*]\") \\\n",
        "      .appName(\"API\") \\\n",
        "      .getOrCreate() "
      ],
      "metadata": {
        "id": "WOwHQRHUlEt-"
      },
      "execution_count": 3,
      "outputs": []
    },
    {
      "cell_type": "markdown",
      "source": [
        "# EDA (Exploratory Data Analysis)"
      ],
      "metadata": {
        "id": "u1keKxfjoFwg"
      }
    },
    {
      "cell_type": "code",
      "source": [
        "df_ratings = spark.read.csv('Netflix_Dataset_Rating.csv',header=True, inferSchema=True)\n",
        "df_ratings.show(5)"
      ],
      "metadata": {
        "id": "qsn_FnnEnhWx",
        "colab": {
          "base_uri": "https://localhost:8080/"
        },
        "outputId": "d027f9a3-fdae-4ccc-a1e2-d2d7de3b5ab6"
      },
      "execution_count": 4,
      "outputs": [
        {
          "output_type": "stream",
          "name": "stdout",
          "text": [
            "+-------+------+--------+\n",
            "|User_ID|Rating|Movie_ID|\n",
            "+-------+------+--------+\n",
            "| 712664|     5|       3|\n",
            "|1331154|     4|       3|\n",
            "|2632461|     3|       3|\n",
            "|  44937|     5|       3|\n",
            "| 656399|     4|       3|\n",
            "+-------+------+--------+\n",
            "only showing top 5 rows\n",
            "\n"
          ]
        }
      ]
    },
    {
      "cell_type": "markdown",
      "source": [
        "Here we have our dataset. There's only 3 columns, with them being, User_ID, Rating and Movie_ID, basicacly all the information we need to do a collaborative filtering to recommend movies based on people with similar taste"
      ],
      "metadata": {
        "id": "pFzZowK_m2Jn"
      }
    },
    {
      "cell_type": "code",
      "source": [
        "df_ratings.count()"
      ],
      "metadata": {
        "colab": {
          "base_uri": "https://localhost:8080/"
        },
        "id": "rEb4xbxA5uHg",
        "outputId": "4a78f4ed-3319-49f2-ec86-f619d15f6f16"
      },
      "execution_count": 5,
      "outputs": [
        {
          "output_type": "execute_result",
          "data": {
            "text/plain": [
              "17337458"
            ]
          },
          "metadata": {},
          "execution_count": 5
        }
      ]
    },
    {
      "cell_type": "code",
      "source": [
        "df_ratings.printSchema()"
      ],
      "metadata": {
        "colab": {
          "base_uri": "https://localhost:8080/"
        },
        "id": "0etFt9aI50qn",
        "outputId": "566972c4-464d-40d6-9ad9-46bb5248a564"
      },
      "execution_count": 6,
      "outputs": [
        {
          "output_type": "stream",
          "name": "stdout",
          "text": [
            "root\n",
            " |-- User_ID: integer (nullable = true)\n",
            " |-- Rating: integer (nullable = true)\n",
            " |-- Movie_ID: integer (nullable = true)\n",
            "\n"
          ]
        }
      ]
    },
    {
      "cell_type": "code",
      "source": [
        "df_ratings.select([f.count(f.when(f.isnull(c), 1)).alias(c) for c in df_ratings.columns]).show()"
      ],
      "metadata": {
        "colab": {
          "base_uri": "https://localhost:8080/"
        },
        "id": "-AULL_lv6b63",
        "outputId": "b7f4be84-8c56-414f-b2ca-1829f7f2aacd"
      },
      "execution_count": 7,
      "outputs": [
        {
          "output_type": "stream",
          "name": "stdout",
          "text": [
            "+-------+------+--------+\n",
            "|User_ID|Rating|Movie_ID|\n",
            "+-------+------+--------+\n",
            "|      0|     0|       0|\n",
            "+-------+------+--------+\n",
            "\n"
          ]
        }
      ]
    },
    {
      "cell_type": "code",
      "source": [
        "df_movies = spark.read.csv('Netflix_Dataset_Movie.csv', header=True, inferSchema=True)\n",
        "df_movies.show(5)"
      ],
      "metadata": {
        "colab": {
          "base_uri": "https://localhost:8080/"
        },
        "id": "969DAfWVGJ6J",
        "outputId": "cb20a4e0-762d-41a5-8cae-921a1de63168"
      },
      "execution_count": 8,
      "outputs": [
        {
          "output_type": "stream",
          "name": "stdout",
          "text": [
            "+--------+----+--------------------+\n",
            "|Movie_ID|Year|                Name|\n",
            "+--------+----+--------------------+\n",
            "|       1|2003|     Dinosaur Planet|\n",
            "|       2|2004|Isle of Man TT 20...|\n",
            "|       3|1997|           Character|\n",
            "|       4|1994|Paula Abdul's Get...|\n",
            "|       5|2004|The Rise and Fall...|\n",
            "+--------+----+--------------------+\n",
            "only showing top 5 rows\n",
            "\n"
          ]
        }
      ]
    },
    {
      "cell_type": "markdown",
      "source": [
        "Here we have the dataset with all the information about the movies. There's not much information to use, only the ID, year and name, so no recommendation based on genre, budget, or anything like that"
      ],
      "metadata": {
        "id": "yZISG_5wniU5"
      }
    },
    {
      "cell_type": "code",
      "source": [
        "df_movies.count()"
      ],
      "metadata": {
        "colab": {
          "base_uri": "https://localhost:8080/"
        },
        "id": "uQ6LxpDvGMMh",
        "outputId": "0cdae1b4-b16a-4f0c-ba0b-b11bdfa38db8"
      },
      "execution_count": 9,
      "outputs": [
        {
          "output_type": "execute_result",
          "data": {
            "text/plain": [
              "17770"
            ]
          },
          "metadata": {},
          "execution_count": 9
        }
      ]
    },
    {
      "cell_type": "code",
      "source": [
        "df_raings_movies = df_movies.join(df_ratings, 'Movie_ID', how='inner')\n",
        "df_raings_movies.show(5)"
      ],
      "metadata": {
        "colab": {
          "base_uri": "https://localhost:8080/"
        },
        "id": "iI_eS8SrGTnw",
        "outputId": "3cd5861d-86da-4ee6-af5f-bb4108d69312"
      },
      "execution_count": 10,
      "outputs": [
        {
          "output_type": "stream",
          "name": "stdout",
          "text": [
            "+--------+----+---------+-------+------+\n",
            "|Movie_ID|Year|     Name|User_ID|Rating|\n",
            "+--------+----+---------+-------+------+\n",
            "|       3|1997|Character| 712664|     5|\n",
            "|       3|1997|Character|1331154|     4|\n",
            "|       3|1997|Character|2632461|     3|\n",
            "|       3|1997|Character|  44937|     5|\n",
            "|       3|1997|Character| 656399|     4|\n",
            "+--------+----+---------+-------+------+\n",
            "only showing top 5 rows\n",
            "\n"
          ]
        }
      ]
    },
    {
      "cell_type": "code",
      "source": [
        "df_raings_movies_summary = df_raings_movies.groupBy('Movie_ID', 'Year', 'Name')\\\n",
        "  .agg(\n",
        "      f.mean('Rating').alias('Rating_Mean'), \n",
        "      f.count('User_ID').alias('Count_Reviews'))\n",
        "\n",
        "df_raings_movies_summary.show(5)"
      ],
      "metadata": {
        "colab": {
          "base_uri": "https://localhost:8080/"
        },
        "id": "TtN6RypDJO5D",
        "outputId": "b4d13475-edfc-46ec-dea6-e7a1383f7077"
      },
      "execution_count": 11,
      "outputs": [
        {
          "output_type": "stream",
          "name": "stdout",
          "text": [
            "+--------+----+------------------+------------------+-------------+\n",
            "|Movie_ID|Year|              Name|       Rating_Mean|Count_Reviews|\n",
            "+--------+----+------------------+------------------+-------------+\n",
            "|     582|1986|      Jo Jo Dancer| 2.961183891314896|         2061|\n",
            "|     181|2004|     The Last Shot| 2.604270462633452|         2810|\n",
            "|    1022|1993|       The Snapper|3.2859654263111633|         3413|\n",
            "|    1646|1983|     The Dead Zone|3.6435392935220343|         8691|\n",
            "|     156|1992|Husbands and Wives| 3.463768115942029|         7107|\n",
            "+--------+----+------------------+------------------+-------------+\n",
            "only showing top 5 rows\n",
            "\n"
          ]
        }
      ]
    },
    {
      "cell_type": "markdown",
      "source": [
        "This dataframe have the summarized information about the movies and their ratings, like rating mean and number of reviews"
      ],
      "metadata": {
        "id": "3vBSuiBeoYp0"
      }
    },
    {
      "cell_type": "code",
      "source": [
        "# Movies with the highest ratings\n",
        "df_raings_movies_summary.orderBy('Rating_Mean',ascending=False).show(5, False)"
      ],
      "metadata": {
        "colab": {
          "base_uri": "https://localhost:8080/"
        },
        "id": "gqN7cy6bNcrA",
        "outputId": "e1c03042-1b10-4747-d0b3-b25992821bd8"
      },
      "execution_count": 12,
      "outputs": [
        {
          "output_type": "stream",
          "name": "stdout",
          "text": [
            "+--------+----+-------------------------------------+-----------------+-------------+\n",
            "|Movie_ID|Year|Name                                 |Rating_Mean      |Count_Reviews|\n",
            "+--------+----+-------------------------------------+-----------------+-------------+\n",
            "|3456    |2004|Lost: Season 1                       |4.665432098765432|4860         |\n",
            "|2102    |1994|The Simpsons: Season 6               |4.589824034920202|7331         |\n",
            "|3444    |2004|Family Guy: Freakin' Sweet Collection|4.520766378244747|8090         |\n",
            "|1476    |2004|Six Feet Under: Season 4             |4.461601211979955|8581         |\n",
            "|4238    |2000|Inu-Yasha                            |4.457773512476008|1042         |\n",
            "+--------+----+-------------------------------------+-----------------+-------------+\n",
            "only showing top 5 rows\n",
            "\n"
          ]
        }
      ]
    },
    {
      "cell_type": "code",
      "source": [
        "# Movies with more reviews\n",
        "df_raings_movies_summary.orderBy('Count_Reviews',ascending=False).show(5, False)"
      ],
      "metadata": {
        "colab": {
          "base_uri": "https://localhost:8080/"
        },
        "id": "LUikyYAvOX7J",
        "outputId": "473e845c-3d51-4719-e96f-2bf9f132578f"
      },
      "execution_count": 13,
      "outputs": [
        {
          "output_type": "stream",
          "name": "stdout",
          "text": [
            "+--------+----+------------------------------------------------------+------------------+-------------+\n",
            "|Movie_ID|Year|Name                                                  |Rating_Mean       |Count_Reviews|\n",
            "+--------+----+------------------------------------------------------+------------------+-------------+\n",
            "|1905    |2003|Pirates of the Caribbean: The Curse of the Black Pearl|4.146333546871664 |117075       |\n",
            "|2452    |2001|Lord of the Rings: The Fellowship of the Ring         |4.43148917942777  |102721       |\n",
            "|4306    |1999|The Sixth Sense                                       |4.3114694850355555|102376       |\n",
            "|571     |1999|American Beauty                                       |3.937732873336619 |101450       |\n",
            "|3860    |2003|Bruce Almighty                                        |3.4043228981683495|98545        |\n",
            "+--------+----+------------------------------------------------------+------------------+-------------+\n",
            "only showing top 5 rows\n",
            "\n"
          ]
        }
      ]
    },
    {
      "cell_type": "code",
      "source": [
        "# Best movies by year\n",
        "df_raings_movies_summary\\\n",
        "  .groupBy('Year').agg(\\\n",
        "                       f.max('Rating_Mean').alias('Biggest_Rating_Mean'),\n",
        "                       f.max_by('Name', 'Rating_Mean').alias('Biggest_Rating_Name'),\n",
        "                       f.max_by('Count_Reviews', 'Rating_Mean').alias('Biggest_Rating_Count_Reviews'),\n",
        "                       f.max('Count_Reviews').alias('Biggest_Count_Reviews'),\n",
        "                       f.max_by('Name', 'Count_Reviews').alias('Biggest_Count_Reviews_Name'),\n",
        "                       f.max_by('Rating_Mean', 'Count_Reviews').alias('Biggest_Count_Rating_Mean'))\\\n",
        "  .orderBy('Year', ascending=False).show(5, False)"
      ],
      "metadata": {
        "colab": {
          "base_uri": "https://localhost:8080/"
        },
        "id": "V-776zpUOvar",
        "outputId": "0008d3ed-5d34-4584-c045-ed8ca50723d7"
      },
      "execution_count": 14,
      "outputs": [
        {
          "output_type": "stream",
          "name": "stdout",
          "text": [
            "+----+-------------------+-------------------------+----------------------------+---------------------+------------------------------------------------------+-------------------------+\n",
            "|Year|Biggest_Rating_Mean|Biggest_Rating_Name      |Biggest_Rating_Count_Reviews|Biggest_Count_Reviews|Biggest_Count_Reviews_Name                            |Biggest_Count_Rating_Mean|\n",
            "+----+-------------------+-------------------------+----------------------------+---------------------+------------------------------------------------------+-------------------------+\n",
            "|2005|4.244315458757122  |Batman Begins            |37558                       |37558                |Batman Begins                                         |4.244315458757122        |\n",
            "|2004|4.665432098765432  |Lost: Season 1           |4860                        |92893                |Shrek 2                                               |4.121559213288407        |\n",
            "|2003|4.395903857377832  |Finding Nemo (Widescreen)|94235                       |117075               |Pirates of the Caribbean: The Curse of the Black Pearl|4.146333546871664        |\n",
            "|2002|4.428942582488959  |Gilmore Girls: Season 3  |3849                        |81371                |Men in Black II                                       |3.2393235919430756       |\n",
            "|2001|4.43625843780135   |The West Wing: Season 3  |5185                        |102721               |Lord of the Rings: The Fellowship of the Ring         |4.43148917942777         |\n",
            "+----+-------------------+-------------------------+----------------------------+---------------------+------------------------------------------------------+-------------------------+\n",
            "only showing top 5 rows\n",
            "\n"
          ]
        }
      ]
    },
    {
      "cell_type": "code",
      "source": [
        "# Summary of the dataframe\n",
        "df_raings_movies_summary.select('Year', 'Rating_Mean', 'Count_Reviews').summary().show()"
      ],
      "metadata": {
        "colab": {
          "base_uri": "https://localhost:8080/"
        },
        "id": "tKiMGi5DR20F",
        "outputId": "f56bf2a6-c846-4cce-dcf6-f2fb6df525a7"
      },
      "execution_count": 15,
      "outputs": [
        {
          "output_type": "stream",
          "name": "stdout",
          "text": [
            "+-------+------------------+------------------+------------------+\n",
            "|summary|              Year|       Rating_Mean|     Count_Reviews|\n",
            "+-------+------------------+------------------+------------------+\n",
            "|  count|              1350|              1350|              1350|\n",
            "|   mean|           1990.38| 3.485986436639173|12842.561481481482|\n",
            "| stddev|15.427057858147705|0.4225944485920032| 17805.33471936964|\n",
            "|    min|              1920|1.9620309050772626|              1042|\n",
            "|    25%|              1985|3.2098535286284955|              2607|\n",
            "|    50%|              1996|3.5085256562772624|              5222|\n",
            "|    75%|              2001| 3.768066707844348|             14808|\n",
            "|    max|              2005| 4.665432098765432|            117075|\n",
            "+-------+------------------+------------------+------------------+\n",
            "\n"
          ]
        }
      ]
    },
    {
      "cell_type": "code",
      "source": [
        "# Information about the users (number of reviews by user and mean of their ratings)\n",
        "df_user_info =  df_ratings.groupBy('User_ID').agg(f.count('User_ID').alias('Count_reviews'), f.mean('Rating').alias('Rating_Mean'))\n",
        "df_user_info.show(5)"
      ],
      "metadata": {
        "colab": {
          "base_uri": "https://localhost:8080/"
        },
        "id": "AphP8RRRgMXZ",
        "outputId": "339ddbaf-c4c8-4fa7-f7d1-63146c20a1bf"
      },
      "execution_count": 16,
      "outputs": [
        {
          "output_type": "stream",
          "name": "stdout",
          "text": [
            "+-------+-------------+------------------+\n",
            "|User_ID|Count_reviews|       Rating_Mean|\n",
            "+-------+-------------+------------------+\n",
            "|2427438|           68| 4.117647058823529|\n",
            "|2496050|          217|3.1705069124423964|\n",
            "|1377693|          218|3.5275229357798166|\n",
            "|2190625|          298| 3.151006711409396|\n",
            "|1560852|           68| 4.014705882352941|\n",
            "+-------+-------------+------------------+\n",
            "only showing top 5 rows\n",
            "\n"
          ]
        }
      ]
    },
    {
      "cell_type": "code",
      "source": [
        "# Summary of the users info\n",
        "df_user_info.select('Count_reviews', 'Rating_Mean').summary().show()"
      ],
      "metadata": {
        "colab": {
          "base_uri": "https://localhost:8080/"
        },
        "id": "QxVCBejwquaE",
        "outputId": "ea741d9b-7650-48c4-9cae-f90e1d01396f"
      },
      "execution_count": 17,
      "outputs": [
        {
          "output_type": "stream",
          "name": "stdout",
          "text": [
            "+-------+------------------+-------------------+\n",
            "|summary|     Count_reviews|        Rating_Mean|\n",
            "+-------+------------------+-------------------+\n",
            "|  count|            143458|             143458|\n",
            "|   mean|120.85389451965035|  3.636473203266291|\n",
            "| stddev| 79.78370234809589|0.41403265068894873|\n",
            "|    min|                 5|                1.0|\n",
            "|    25%|                67| 3.3676470588235294|\n",
            "|    50%|                95| 3.6315789473684212|\n",
            "|    75%|               147| 3.9038461538461537|\n",
            "|    max|              1344|                5.0|\n",
            "+-------+------------------+-------------------+\n",
            "\n"
          ]
        }
      ]
    },
    {
      "cell_type": "markdown",
      "source": [
        "# Collaborative Filtering"
      ],
      "metadata": {
        "id": "6tdg-BQku2vS"
      }
    },
    {
      "cell_type": "code",
      "source": [
        "from pyspark.ml.recommendation import ALS\n",
        "\n",
        "# Create ALS model\n",
        "als = ALS(\n",
        "         userCol=\"User_ID\", \n",
        "         itemCol=\"Movie_ID\",\n",
        "         ratingCol=\"Rating\", \n",
        "         nonnegative = True, \n",
        "         implicitPrefs = False,\n",
        "         coldStartStrategy=\"drop\"\n",
        ")\n",
        "\n",
        "model_als = als.fit(df_ratings)"
      ],
      "metadata": {
        "id": "0uUlKZd67QQS"
      },
      "execution_count": 18,
      "outputs": []
    },
    {
      "cell_type": "code",
      "source": [
        "def getNameMovie(id_movie, df_movies):\n",
        "  \"\"\"Get the name of the movie based on the id\n",
        "\n",
        "  Args:\n",
        "      id_movie (int): id movie\n",
        "      df_movies (dataframe): dataframe with all the movies (name and id)\n",
        "\n",
        "  Returns:\n",
        "      string: name of the movie\n",
        "  \"\"\"\n",
        "  try:\n",
        "    return df_movies.where(f'Movie_ID = {id_movie}').collect()[0]['Name']\n",
        "  except IndexError:\n",
        "    return 'Movie Not Found'\n",
        "\n",
        "def movieRecommendations(user_id, number_recommendations, df_ratings, df_movies, model_als):\n",
        "  \"\"\"Recommend a X number of movies to a specific user\n",
        "\n",
        "  Args:\n",
        "      user_id (int): User id\n",
        "      number_recommendations (int): Number of recommendations\n",
        "      df_ratings (dataframe): dataframe with the ratings\n",
        "      df_movies (dataframe): datagrame with the movies (name and id)\n",
        "      model_als (model): model trained to recommend the movies =\n",
        "\n",
        "  Returns:\n",
        "      dict: return all the movies recommended (name and id)\n",
        "  \"\"\"\n",
        "  df_user_id = spark.createDataFrame([{'User_ID': user_id}])\n",
        "  recommendations = model_als.recommendForUserSubset(df_user_id ,number_recommendations)\n",
        "\n",
        "  if not len(recommendations.collect()):\n",
        "    raise ValueError('User not found')\n",
        "\n",
        "  recommendations_movies = []\n",
        "  for recommendation in recommendations.collect()[0]['recommendations']:\n",
        "    recommendation_movies = {}\n",
        "    recommendation_movies['Movie_ID'] = recommendation['Movie_ID']\n",
        "    recommendation_movies['Movie_Name'] = getNameMovie(recommendation['Movie_ID'], df_movies)\n",
        "    recommendations_movies.append(recommendation_movies)\n",
        "  return recommendations_movies"
      ],
      "metadata": {
        "id": "4mIUXJNeW7ll"
      },
      "execution_count": 19,
      "outputs": []
    },
    {
      "cell_type": "code",
      "source": [
        "# Test (User that exists)\n",
        "movieRecommendations(712664, 10, df_ratings, df_movies, model_als)"
      ],
      "metadata": {
        "colab": {
          "base_uri": "https://localhost:8080/"
        },
        "id": "MyUPvBPyc6Gl",
        "outputId": "951fff1e-de65-4edf-8ac5-f30ab2a5c8dd"
      },
      "execution_count": 20,
      "outputs": [
        {
          "output_type": "execute_result",
          "data": {
            "text/plain": [
              "[{'Movie_ID': 2102, 'Movie_Name': 'The Simpsons: Season 6'},\n",
              " {'Movie_ID': 3290, 'Movie_Name': 'The Godfather'},\n",
              " {'Movie_ID': 2172, 'Movie_Name': 'The Simpsons: Season 3'},\n",
              " {'Movie_ID': 4353, 'Movie_Name': 'Curb Your Enthusiasm: Season 3'},\n",
              " {'Movie_ID': 872, 'Movie_Name': 'Seven Samurai'},\n",
              " {'Movie_ID': 3046, 'Movie_Name': 'The Simpsons: Treehouse of Horror'},\n",
              " {'Movie_ID': 722, 'Movie_Name': 'The Wire: Season 1'},\n",
              " {'Movie_ID': 3456, 'Movie_Name': 'Lost: Season 1'},\n",
              " {'Movie_ID': 3444, 'Movie_Name': \"Family Guy: Freakin' Sweet Collection\"},\n",
              " {'Movie_ID': 4115, 'Movie_Name': 'The Simpsons: Bart Wars'}]"
            ]
          },
          "metadata": {},
          "execution_count": 20
        }
      ]
    },
    {
      "cell_type": "code",
      "source": [
        "# Test (User that not exists)\n",
        "movieRecommendations(1, 10, df_ratings, df_movies, model_als)"
      ],
      "metadata": {
        "colab": {
          "base_uri": "https://localhost:8080/",
          "height": 306
        },
        "id": "yDr8F8UpziIB",
        "outputId": "f5572727-ac07-461f-ce89-f5d1975f6f3e"
      },
      "execution_count": 21,
      "outputs": [
        {
          "output_type": "error",
          "ename": "ValueError",
          "evalue": "ignored",
          "traceback": [
            "\u001b[0;31m---------------------------------------------------------------------------\u001b[0m",
            "\u001b[0;31mValueError\u001b[0m                                Traceback (most recent call last)",
            "\u001b[0;32m<ipython-input-21-83c6b9b6fba8>\u001b[0m in \u001b[0;36m<module>\u001b[0;34m\u001b[0m\n\u001b[1;32m      1\u001b[0m \u001b[0;31m# Test (User that not exists)\u001b[0m\u001b[0;34m\u001b[0m\u001b[0;34m\u001b[0m\u001b[0;34m\u001b[0m\u001b[0m\n\u001b[0;32m----> 2\u001b[0;31m \u001b[0mmovieRecommendations\u001b[0m\u001b[0;34m(\u001b[0m\u001b[0;36m1\u001b[0m\u001b[0;34m,\u001b[0m \u001b[0;36m10\u001b[0m\u001b[0;34m,\u001b[0m \u001b[0mdf_ratings\u001b[0m\u001b[0;34m,\u001b[0m \u001b[0mdf_movies\u001b[0m\u001b[0;34m,\u001b[0m \u001b[0mmodel_als\u001b[0m\u001b[0;34m)\u001b[0m\u001b[0;34m\u001b[0m\u001b[0;34m\u001b[0m\u001b[0m\n\u001b[0m",
            "\u001b[0;32m<ipython-input-19-de5efc3c0b0d>\u001b[0m in \u001b[0;36mmovieRecommendations\u001b[0;34m(user_id, number_recommendations, df_ratings, df_movies, model_als)\u001b[0m\n\u001b[1;32m     31\u001b[0m \u001b[0;34m\u001b[0m\u001b[0m\n\u001b[1;32m     32\u001b[0m   \u001b[0;32mif\u001b[0m \u001b[0;32mnot\u001b[0m \u001b[0mlen\u001b[0m\u001b[0;34m(\u001b[0m\u001b[0mrecommendations\u001b[0m\u001b[0;34m.\u001b[0m\u001b[0mcollect\u001b[0m\u001b[0;34m(\u001b[0m\u001b[0;34m)\u001b[0m\u001b[0;34m)\u001b[0m\u001b[0;34m:\u001b[0m\u001b[0;34m\u001b[0m\u001b[0;34m\u001b[0m\u001b[0m\n\u001b[0;32m---> 33\u001b[0;31m     \u001b[0;32mraise\u001b[0m \u001b[0mValueError\u001b[0m\u001b[0;34m(\u001b[0m\u001b[0;34m'User not found'\u001b[0m\u001b[0;34m)\u001b[0m\u001b[0;34m\u001b[0m\u001b[0;34m\u001b[0m\u001b[0m\n\u001b[0m\u001b[1;32m     34\u001b[0m \u001b[0;34m\u001b[0m\u001b[0m\n\u001b[1;32m     35\u001b[0m   \u001b[0mrecommendations_movies\u001b[0m \u001b[0;34m=\u001b[0m \u001b[0;34m[\u001b[0m\u001b[0;34m]\u001b[0m\u001b[0;34m\u001b[0m\u001b[0;34m\u001b[0m\u001b[0m\n",
            "\u001b[0;31mValueError\u001b[0m: User not found"
          ]
        }
      ]
    }
  ]
}